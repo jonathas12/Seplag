{
  "nbformat": 4,
  "nbformat_minor": 0,
  "metadata": {
    "colab": {
      "provenance": [],
      "authorship_tag": "ABX9TyMDM8St83ip/hZxK4ly2J4e",
      "include_colab_link": true
    },
    "kernelspec": {
      "name": "python3",
      "display_name": "Python 3"
    },
    "language_info": {
      "name": "python"
    }
  },
  "cells": [
    {
      "cell_type": "markdown",
      "metadata": {
        "id": "view-in-github",
        "colab_type": "text"
      },
      "source": [
        "<a href=\"https://colab.research.google.com/github/jonathas12/Seplag/blob/Developer/An%C3%A1lises_de_Pre%C3%A7os_Pontos_de_Fun%C3%A7%C3%A3o.ipynb\" target=\"_parent\"><img src=\"https://colab.research.google.com/assets/colab-badge.svg\" alt=\"Open In Colab\"/></a>"
      ]
    },
    {
      "cell_type": "markdown",
      "source": [
        "# Análises de preços de mercado de Ponto de Função para Tecnologia Java.\n",
        "\n",
        "Estas análise tem por objetivo coletar, analisar estatisticamente e representar análises de preços de pontos de função, com objeto de contrato igual ou similar ao do Contrato 014/2022/SEPLAG, afim de descrever e indicar a vantajosidade financeira do preço do referido contrato com preços praticados no mercado público e privado."
      ],
      "metadata": {
        "id": "AvJDZYn9w-f4"
      }
    },
    {
      "cell_type": "markdown",
      "source": [
        "## Importação das biliotecas e pacotes."
      ],
      "metadata": {
        "id": "zu2ef8lQxhNg"
      }
    },
    {
      "cell_type": "code",
      "execution_count": 31,
      "metadata": {
        "id": "C0C24lkllfvh"
      },
      "outputs": [],
      "source": [
        "import pandas as pd\n",
        "import numpy as np\n",
        "\n",
        "from statistics import mode       # Moda\n",
        "from statistics import median     # Média\n",
        "from statistics import mean       # Mediana\n",
        "from matplotlib import pyplot     # Plot, impressão\n",
        "from statistics import variance   # Variância\n",
        "from statistics import stdev      # Desvio padão"
      ]
    },
    {
      "cell_type": "markdown",
      "source": [
        "## Importação dos dados e transformação em DataFrame do Pandas."
      ],
      "metadata": {
        "id": "DmExavTrxuPe"
      }
    },
    {
      "cell_type": "code",
      "source": [
        "df_precos = pd.DataFrame({'Contratos': ['Contrato 1', 'Contrato 2', 'Contrato 3', 'Contrato 4', 'Contrato 5', 'Contrato 6'],\n",
        "                          'Preços': [886.51, 886.51, 565.15, 550.00, 707.64, 1200.00]})\n",
        "\n",
        "print(df_precos)"
      ],
      "metadata": {
        "id": "FAdha2QQl6kX"
      },
      "execution_count": null,
      "outputs": []
    },
    {
      "cell_type": "markdown",
      "source": [
        "## Análises estatísticas descritiva e formatação dos valores."
      ],
      "metadata": {
        "id": "F-VTTdWPyHa5"
      }
    },
    {
      "cell_type": "code",
      "source": [
        "# Calcular as estatísticas\n",
        "mediana = df_precos['Preços'].median()\n",
        "media = df_precos['Preços'].mean()\n",
        "moda = df_precos['Preços'].mode()[0]  # Pega o primeiro valor da moda (se houver múltiplos)\n",
        "amplitude = df_precos['Preços'].max() - df_precos['Preços'].min()\n",
        "variancia = df_precos['Preços'].var()\n",
        "desvio_padrao = df_precos['Preços'].std()\n",
        "coeficiente_variacao = (desvio_padrao / media) * 100\n",
        "\n",
        "# Formatar os resultados para exibição com 2 casas decimais\n",
        "mediana_formatada = f\"{mediana:.2f}\"\n",
        "media_formatada = f\"{media:.2f}\"\n",
        "moda_formatada = f\"{moda:.2f}\"\n",
        "amplitude_formatada = f\"{amplitude:.2f}\"\n",
        "variancia_formatada = f\"{variancia:.2f}\"\n",
        "desvio_padrao_formatado = f\"{desvio_padrao:.2f}\"\n",
        "coeficiente_variacao_formatado = f\"{coeficiente_variacao:.2f}%\"\n",
        "\n",
        "# Imprimir os resultados formatados\n",
        "print(f\"Média:  {media_formatada}\")\n",
        "print(f\"Mediana:  {mediana_formatada}\")\n",
        "print(f\"Moda:  {moda_formatada}\")\n",
        "amplitude_formatada = f\"{amplitude:.2f}\"\n",
        "print(f\"Amplitude:  {amplitude_formatada}\")\n",
        "print(f\"Variância:  {variancia_formatada}\")\n",
        "print(f\"Desvio Padrão:  {desvio_padrao_formatado}\")\n",
        "print(f\"Coeficiente de Variação:  {coeficiente_variacao_formatado}\")"
      ],
      "metadata": {
        "colab": {
          "base_uri": "https://localhost:8080/"
        },
        "id": "cNMcnNyVsE-i",
        "outputId": "77e8afd2-2093-4aa6-eaef-2d12749cae32"
      },
      "execution_count": 40,
      "outputs": [
        {
          "output_type": "stream",
          "name": "stdout",
          "text": [
            "Média:  799.30\n",
            "Mediana:  797.08\n",
            "Moda:  886.51\n",
            "Amplitude:  650.00\n",
            "Variância:  60229.99\n",
            "Desvio Padrão:  245.42\n",
            "Coeficiente de Variação:  30.70%\n"
          ]
        }
      ]
    }
  ]
}