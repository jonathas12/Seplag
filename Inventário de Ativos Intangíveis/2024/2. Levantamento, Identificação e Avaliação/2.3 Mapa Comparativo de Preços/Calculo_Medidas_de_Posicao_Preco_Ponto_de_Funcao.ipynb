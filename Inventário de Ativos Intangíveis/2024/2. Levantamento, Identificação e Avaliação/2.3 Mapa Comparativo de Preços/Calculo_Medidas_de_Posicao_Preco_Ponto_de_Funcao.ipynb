{
  "nbformat": 4,
  "nbformat_minor": 0,
  "metadata": {
    "colab": {
      "provenance": []
    },
    "kernelspec": {
      "name": "python3",
      "display_name": "Python 3"
    },
    "language_info": {
      "name": "python"
    }
  },
  "cells": [
    {
      "cell_type": "markdown",
      "source": [
        "## Cálculos de medidas de Posição acerca de preços unitários de pontos de função com objetivo similar ao contrato 014/2024/SEPLAG, para análise de dados."
      ],
      "metadata": {
        "id": "BsZSh4LyMAsI"
      }
    },
    {
      "cell_type": "code",
      "execution_count": 10,
      "metadata": {
        "id": "QsgCr5u1J3Dr"
      },
      "outputs": [],
      "source": [
        "# Importda função para Cálculo da Moda\n",
        "from statistics import mode"
      ]
    },
    {
      "cell_type": "code",
      "source": [
        "# Dados\n",
        "dadosModa = [886.51, 886.51, 565.15, 550.00, 707.64]"
      ],
      "metadata": {
        "id": "vc5hJ2RwKbiG"
      },
      "execution_count": 11,
      "outputs": []
    },
    {
      "cell_type": "code",
      "source": [
        "# Calculando a moda\n",
        "mode(dadosModa)"
      ],
      "metadata": {
        "colab": {
          "base_uri": "https://localhost:8080/"
        },
        "id": "oZCL_8sLKs2G",
        "outputId": "a49945cc-d374-4e2b-d03e-998d13e116f2"
      },
      "execution_count": 12,
      "outputs": [
        {
          "output_type": "execute_result",
          "data": {
            "text/plain": [
              "886.51"
            ]
          },
          "metadata": {},
          "execution_count": 12
        }
      ]
    },
    {
      "cell_type": "code",
      "source": [
        "# Impor tda função para Cálculo da Median\n",
        "from statistics import median"
      ],
      "metadata": {
        "id": "3JnL0zQULHP4"
      },
      "execution_count": 13,
      "outputs": []
    },
    {
      "cell_type": "code",
      "source": [
        "# Dados\n",
        "dadosMediana = [886.51, 886.51, 565.15, 550.00, 707.64]"
      ],
      "metadata": {
        "id": "t_N_kKeKLMW0"
      },
      "execution_count": 14,
      "outputs": []
    },
    {
      "cell_type": "code",
      "source": [
        "# Calculando a mediana\n",
        "median(dadosMediana)"
      ],
      "metadata": {
        "colab": {
          "base_uri": "https://localhost:8080/"
        },
        "id": "qT5U1xsfLPQJ",
        "outputId": "e37228c7-f27a-44d5-dec0-6442e1fda35d"
      },
      "execution_count": 15,
      "outputs": [
        {
          "output_type": "execute_result",
          "data": {
            "text/plain": [
              "707.64"
            ]
          },
          "metadata": {},
          "execution_count": 15
        }
      ]
    },
    {
      "cell_type": "code",
      "source": [
        "# Import da função para Cálculo da Média\n",
        "from statistics import mean"
      ],
      "metadata": {
        "id": "HD7SpfJ6Mh3e"
      },
      "execution_count": 16,
      "outputs": []
    },
    {
      "cell_type": "code",
      "source": [
        "# Dados\n",
        "dadosMedia = [886.51, 886.51, 565.15, 550.00, 707.64]"
      ],
      "metadata": {
        "id": "l47IuQPoM2pk"
      },
      "execution_count": 17,
      "outputs": []
    },
    {
      "cell_type": "code",
      "source": [
        "# Calculando a média\n",
        "mean(dadosMedia)"
      ],
      "metadata": {
        "colab": {
          "base_uri": "https://localhost:8080/"
        },
        "id": "fYaOPTEYM7_F",
        "outputId": "8f48a325-8be5-418b-c975-6a4249838075"
      },
      "execution_count": 18,
      "outputs": [
        {
          "output_type": "execute_result",
          "data": {
            "text/plain": [
              "719.162"
            ]
          },
          "metadata": {},
          "execution_count": 18
        }
      ]
    }
  ]
}